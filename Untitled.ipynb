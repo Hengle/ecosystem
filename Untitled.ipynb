{
 "cells": [
  {
   "cell_type": "code",
   "execution_count": 1,
   "metadata": {},
   "outputs": [],
   "source": [
    "import numpy as np\n",
    "import matplotlib.pyplot as plt"
   ]
  },
  {
   "cell_type": "code",
   "execution_count": 2,
   "metadata": {},
   "outputs": [],
   "source": [
    "with open (\"death.txt\", \"r\") as myfile:\n",
    "    data=myfile.readlines()\n"
   ]
  },
  {
   "cell_type": "code",
   "execution_count": 3,
   "metadata": {},
   "outputs": [],
   "source": [
    "deaths = {}\n",
    "for d in data:\n",
    "    race = d.split(' ')[0]\n",
    "    cause = d.split(' ')[1][:-1]\n",
    "    if (race not in deaths.keys()):\n",
    "        deaths[race] = {}\n",
    "    deaths[race][cause] = deaths[race].get(cause,0)+1"
   ]
  },
  {
   "cell_type": "code",
   "execution_count": 4,
   "metadata": {},
   "outputs": [
    {
     "data": {
      "text/plain": [
       "{'Plant': {'Eaten': 600, 'Age': 365},\n",
       " 'GreenPlant': {'Age': 229, 'Eaten': 346},\n",
       " 'CyanPlant': {'Eaten': 81, 'Age': 311},\n",
       " 'Duck': {'Eaten': 315, 'Hunger': 95, 'Thirst': 18, 'Age': 18},\n",
       " 'Squirell': {'Eaten': 236, 'Thirst': 17, 'Hunger': 74, 'Age': 26},\n",
       " 'Deer': {'Eaten': 179, 'Hunger': 81, 'Thirst': 14, 'Age': 65},\n",
       " 'Human': {'Thirst': 18, 'Hunger': 2},\n",
       " 'Shark': {'Thirst': 2, 'Hunger': 2},\n",
       " 'BabyYoda': {'Hunger': 9},\n",
       " 'Zombie': {'Thirst': 3}}"
      ]
     },
     "execution_count": 4,
     "metadata": {},
     "output_type": "execute_result"
    }
   ],
   "source": [
    "deaths"
   ]
  },
  {
   "cell_type": "code",
   "execution_count": null,
   "metadata": {},
   "outputs": [],
   "source": []
  }
 ],
 "metadata": {
  "kernelspec": {
   "display_name": "Python 3",
   "language": "python",
   "name": "python3"
  },
  "language_info": {
   "codemirror_mode": {
    "name": "ipython",
    "version": 3
   },
   "file_extension": ".py",
   "mimetype": "text/x-python",
   "name": "python",
   "nbconvert_exporter": "python",
   "pygments_lexer": "ipython3",
   "version": "3.7.4"
  }
 },
 "nbformat": 4,
 "nbformat_minor": 2
}
