{
 "cells": [
  {
   "cell_type": "code",
   "execution_count": 5,
   "metadata": {},
   "outputs": [],
   "source": [
    "import numpy as np\n",
    "import matplotlib.pyplot as plt"
   ]
  },
  {
   "cell_type": "code",
   "execution_count": 6,
   "metadata": {},
   "outputs": [],
   "source": [
    "with open (\"death.txt\", \"r\") as myfile:\n",
    "    data=myfile.readlines()\n"
   ]
  },
  {
   "cell_type": "code",
   "execution_count": 7,
   "metadata": {},
   "outputs": [],
   "source": [
    "deaths = {}\n",
    "for d in data:\n",
    "    race = d.split(' ')[0]\n",
    "    cause = d.split(' ')[1][:-1]\n",
    "    if (race not in deaths.keys()):\n",
    "        deaths[race] = {}\n",
    "    deaths[race][cause] = deaths[race].get(cause,0)+1"
   ]
  },
  {
   "cell_type": "code",
   "execution_count": 8,
   "metadata": {},
   "outputs": [
    {
     "data": {
      "text/plain": [
       "{'Squirell': {'Thirst': 80},\n",
       " 'BabyYoda': {'Thirst': 4},\n",
       " 'Human': {'Thirst': 5},\n",
       " 'Deer': {'Thirst': 3},\n",
       " 'Duck': {'Thirst': 9},\n",
       " 'GreenPlant': {'Eaten': 18},\n",
       " 'Plant': {'Eaten': 5},\n",
       " 'Zombie': {'Thirst': 3},\n",
       " 'Shark': {'Thirst': 2}}"
      ]
     },
     "execution_count": 8,
     "metadata": {},
     "output_type": "execute_result"
    }
   ],
   "source": [
    "deaths"
   ]
  },
  {
   "cell_type": "code",
   "execution_count": null,
   "metadata": {},
   "outputs": [],
   "source": []
  }
 ],
 "metadata": {
  "kernelspec": {
   "display_name": "Python 3",
   "language": "python",
   "name": "python3"
  },
  "language_info": {
   "codemirror_mode": {
    "name": "ipython",
    "version": 3
   },
   "file_extension": ".py",
   "mimetype": "text/x-python",
   "name": "python",
   "nbconvert_exporter": "python",
   "pygments_lexer": "ipython3",
   "version": "3.7.4"
  }
 },
 "nbformat": 4,
 "nbformat_minor": 2
}
